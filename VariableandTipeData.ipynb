{
 "cells": [
  {
   "cell_type": "markdown",
   "metadata": {},
   "source": [
    "# Basic Python Programming for Data Science"
   ]
  },
  {
   "cell_type": "code",
   "execution_count": 1,
   "metadata": {},
   "outputs": [
    {
     "name": "stdout",
     "output_type": "stream",
     "text": [
      "Nama : Pranazha Amreta Sanjiwani\n",
      "Umur : 19 tahun\n",
      "Alamat : Jawa Tengah\n"
     ]
    }
   ],
   "source": [
    "# Membuat input bertipe data string (str)\n",
    "Nama = input(\"Nama : \")\n",
    "Umur = input(\"Umur : \")\n",
    "Alamat = input(\"Alamat : \")"
   ]
  },
  {
   "cell_type": "code",
   "execution_count": 2,
   "metadata": {},
   "outputs": [
    {
     "name": "stdout",
     "output_type": "stream",
     "text": [
      "Pranazha Amreta Sanjiwani\n",
      "19 tahun\n"
     ]
    },
    {
     "data": {
      "text/plain": [
       "str"
      ]
     },
     "execution_count": 2,
     "metadata": {},
     "output_type": "execute_result"
    }
   ],
   "source": [
    "print(Nama)\n",
    "print(Umur)\n",
    "type(Nama)"
   ]
  },
  {
   "cell_type": "code",
   "execution_count": 3,
   "metadata": {},
   "outputs": [
    {
     "name": "stdout",
     "output_type": "stream",
     "text": [
      "11\n",
      "11\n"
     ]
    }
   ],
   "source": [
    "# Membuat input bertipe data integer (int)\n",
    "angka_nazha = int(input())\n",
    "print(angka_nazha)"
   ]
  },
  {
   "cell_type": "code",
   "execution_count": 4,
   "metadata": {},
   "outputs": [
    {
     "name": "stdout",
     "output_type": "stream",
     "text": [
      "09\n",
      "9.0\n"
     ]
    }
   ],
   "source": [
    "# Membuat input beripe data float\n",
    "angka_nazha2 = float(input())\n",
    "print(angka_nazha2)"
   ]
  },
  {
   "cell_type": "code",
   "execution_count": 5,
   "metadata": {},
   "outputs": [
    {
     "name": "stdout",
     "output_type": "stream",
     "text": [
      "Nama saya Pranazha Amreta Sanjiwani yang berumur 19 tahun dan bertempat tinggal di Jawa Tengah\n"
     ]
    }
   ],
   "source": [
    "print(\"Nama saya\"+\" \"+ Nama + \" \" + \"yang berumur\"+ \" \" + Umur + \" \" + \"dan bertempat tinggal di\"+ \" \" + Alamat)"
   ]
  },
  {
   "cell_type": "code",
   "execution_count": 6,
   "metadata": {},
   "outputs": [
    {
     "name": "stdout",
     "output_type": "stream",
     "text": [
      " nama saya universitas  kota\n"
     ]
    }
   ],
   "source": [
    "print(' nama saya'+\" \" +'universitas'+ \" \" +' kota')"
   ]
  },
  {
   "cell_type": "code",
   "execution_count": 8,
   "metadata": {},
   "outputs": [
    {
     "data": {
      "text/plain": [
       "'Nama saya Dahlan, Saya berumur 19'"
      ]
     },
     "execution_count": 8,
     "metadata": {},
     "output_type": "execute_result"
    }
   ],
   "source": [
    "text1 = \"Nama saya {Nama}, Saya berumur {Umur}\".format(Nama = \"Dahlan\", Umur = 19)\n",
    "text1"
   ]
  },
  {
   "cell_type": "code",
   "execution_count": 9,
   "metadata": {},
   "outputs": [
    {
     "data": {
      "text/plain": [
       "'Nama saya Dahlan, Saya berumur 19'"
      ]
     },
     "execution_count": 9,
     "metadata": {},
     "output_type": "execute_result"
    }
   ],
   "source": [
    "text2 = \"Nama saya {0}, Saya berumur {1}\".format(\"Dahlan\", 19)\n",
    "text2"
   ]
  },
  {
   "cell_type": "code",
   "execution_count": 10,
   "metadata": {},
   "outputs": [
    {
     "data": {
      "text/plain": [
       "'Nama saya Dahlan, Saya berumur 19'"
      ]
     },
     "execution_count": 10,
     "metadata": {},
     "output_type": "execute_result"
    }
   ],
   "source": [
    "text3 = \"Nama saya {}, Saya berumur {}\".format(\"Dahlan\", 19)\n",
    "text3"
   ]
  },
  {
   "cell_type": "code",
   "execution_count": 11,
   "metadata": {},
   "outputs": [
    {
     "name": "stdout",
     "output_type": "stream",
     "text": [
      "Nama saya Pranazha Amreta Sanjiwani yang berumur 19 tahun dan bertempat tinggal di Jawa Tengah\n"
     ]
    }
   ],
   "source": [
    "print(\"Nama saya %s yang berumur %s dan bertempat tinggal di %s\" %(Nama, Umur, Alamat))"
   ]
  },
  {
   "cell_type": "code",
   "execution_count": 12,
   "metadata": {},
   "outputs": [],
   "source": [
    "# example\n",
    "var1 = 'Assalamualaikum Dunia!' #String\n",
    "var2 = 1234567890 # int\n",
    "var3 = 0.123456789 # float\n",
    "var4 = False #bool\n",
    "var5 = 1j+1 #complex"
   ]
  },
  {
   "cell_type": "code",
   "execution_count": 14,
   "metadata": {},
   "outputs": [],
   "source": [
    "variable1 = 'Hello world!' #string\n",
    "variable2 = 110901 #int\n",
    "variable3 = 0.110901 #float\n",
    "variable4 = True #bool\n",
    "variable5 = 1j + 9 #complex"
   ]
  },
  {
   "cell_type": "code",
   "execution_count": 15,
   "metadata": {},
   "outputs": [
    {
     "name": "stdout",
     "output_type": "stream",
     "text": [
      " belajar bersama Saya di Pusat Studi Data Sains Matematika UAD \n"
     ]
    }
   ],
   "source": [
    "variable7=' belajar bersama Saya di Pusat Studi Data Sains Matematika UAD '\n",
    "print(variable7)"
   ]
  },
  {
   "cell_type": "code",
   "execution_count": 16,
   "metadata": {},
   "outputs": [
    {
     "data": {
      "text/plain": [
       "' belajar bersama Saya di Pusat Studi Data Sains Matematika UAD '"
      ]
     },
     "execution_count": 16,
     "metadata": {},
     "output_type": "execute_result"
    }
   ],
   "source": [
    "variable1\n",
    "variable3\n",
    "variable7"
   ]
  },
  {
   "cell_type": "code",
   "execution_count": 17,
   "metadata": {},
   "outputs": [
    {
     "name": "stdout",
     "output_type": "stream",
     "text": [
      "Hello world!\n",
      "110901\n",
      "0.110901\n",
      "True\n",
      "(9+1j)\n"
     ]
    }
   ],
   "source": [
    "print(variable1) #tipe data string\n",
    "print(variable2) #tipe data integer\n",
    "print(variable3) #tipe data float\n",
    "print(variable4) #tipe data boolean\n",
    "print(variable5) #tipe data Complex"
   ]
  },
  {
   "cell_type": "code",
   "execution_count": 18,
   "metadata": {},
   "outputs": [],
   "source": [
    "#Tanda pagar berfungsi sebagai note\n",
    "\n",
    "#String\n",
    "\n",
    "#Int\n",
    "\n",
    "#Float\n",
    "\n",
    "#Boolean\n",
    "\n",
    "#Complex"
   ]
  },
  {
   "cell_type": "code",
   "execution_count": 19,
   "metadata": {},
   "outputs": [
    {
     "data": {
      "text/plain": [
       "float"
      ]
     },
     "execution_count": 19,
     "metadata": {},
     "output_type": "execute_result"
    }
   ],
   "source": [
    "type(variable3)"
   ]
  },
  {
   "cell_type": "code",
   "execution_count": 20,
   "metadata": {},
   "outputs": [
    {
     "name": "stdout",
     "output_type": "stream",
     "text": [
      "Hello world! Tipe data variable 1: <class 'str'>\n",
      "110901 Tipe data variable 2: <class 'int'>\n",
      "0.110901 Tipe data variable 3: <class 'float'>\n",
      "True Tipe data variable 4: <class 'bool'>\n",
      "(9+1j) Tipe data variable 5: <class 'complex'>\n"
     ]
    }
   ],
   "source": [
    "print(variable1,'Tipe data variable 1:', type(variable1))\n",
    "print(variable2,'Tipe data variable 2:', type(variable2))\n",
    "print(variable3,'Tipe data variable 3:', type(variable3))\n",
    "print(variable4,'Tipe data variable 4:', type(variable4))\n",
    "print(variable5,'Tipe data variable 5:', type(variable5))"
   ]
  },
  {
   "cell_type": "code",
   "execution_count": 21,
   "metadata": {},
   "outputs": [
    {
     "name": "stdout",
     "output_type": "stream",
     "text": [
      "Data = 11 , Type = <class 'int'>\n"
     ]
    }
   ],
   "source": [
    "Number = 11\n",
    "print(\"Data =\", Number, \", Type =\", type(Number))"
   ]
  },
  {
   "cell_type": "code",
   "execution_count": 22,
   "metadata": {},
   "outputs": [
    {
     "name": "stdout",
     "output_type": "stream",
     "text": [
      "data =  11.0 ,type = <class 'float'>\n",
      "data =  11 ,type = <class 'str'>\n",
      "data =  True ,type = <class 'bool'>\n"
     ]
    }
   ],
   "source": [
    "# Mengkonversi tipe data integer\n",
    "konversi_float = float(Number)\n",
    "konversi_str = str(Number)\n",
    "konversi_bool = bool(Number) #False jika integer = 0, lainnya True (perhatikan hasilnya)\n",
    "\n",
    "# Melihat data yang telah dikonversi\n",
    "print(\"data = \", konversi_float , \",type =\", type(konversi_float))\n",
    "print(\"data = \", konversi_str , \",type =\", type(konversi_str))\n",
    "print(\"data = \", konversi_bool , \",type =\", type(konversi_bool))"
   ]
  },
  {
   "cell_type": "code",
   "execution_count": 23,
   "metadata": {},
   "outputs": [
    {
     "data": {
      "text/plain": [
       "[3, 5.7, 'python']"
      ]
     },
     "execution_count": 23,
     "metadata": {},
     "output_type": "execute_result"
    }
   ],
   "source": [
    "data_n = [3, 5.7, 'python']\n",
    "data_n"
   ]
  },
  {
   "cell_type": "code",
   "execution_count": 24,
   "metadata": {},
   "outputs": [
    {
     "name": "stdout",
     "output_type": "stream",
     "text": [
      "23\n",
      "31\n",
      "[13, 19]\n",
      "[7, 9, 11, 13, 19]\n",
      "[23, 27, 31]\n",
      "[9, 13, 23]\n"
     ]
    }
   ],
   "source": [
    "x = [7, 9, 11, 13, 19, 23, 27, 31]\n",
    "print(x[5])\n",
    "print(x[-1])\n",
    "print(x[3:5])\n",
    "print(x[:5])\n",
    "print(x[-3:])\n",
    "print(x[1:7:2])"
   ]
  },
  {
   "cell_type": "code",
   "execution_count": 25,
   "metadata": {},
   "outputs": [
    {
     "name": "stdout",
     "output_type": "stream",
     "text": [
      "[7, 9, 11]\n"
     ]
    }
   ],
   "source": [
    "# Mengganti elemen\n",
    "x = [7, 9, 13]\n",
    "x[2] = 11\n",
    "print (x)"
   ]
  },
  {
   "cell_type": "code",
   "execution_count": 26,
   "metadata": {},
   "outputs": [
    {
     "name": "stdout",
     "output_type": "stream",
     "text": [
      "[7, 9, 19, 5]\n"
     ]
    }
   ],
   "source": [
    "# Menambah elemen\n",
    "x = [7, 9, 11]\n",
    "x[2] = 19\n",
    "x.append(5) # append artinya menambah\n",
    "print(x)"
   ]
  },
  {
   "cell_type": "code",
   "execution_count": 27,
   "metadata": {},
   "outputs": [
    {
     "name": "stdout",
     "output_type": "stream",
     "text": [
      "['kucing', 'rusa', 'gajah']\n"
     ]
    }
   ],
   "source": [
    "animal = ['kucing', 'rusa', 'badak', 'gajah']\n",
    "del animal[2]\n",
    "print(animal)"
   ]
  },
  {
   "cell_type": "code",
   "execution_count": 28,
   "metadata": {},
   "outputs": [
    {
     "name": "stdout",
     "output_type": "stream",
     "text": [
      "['kucing', 'rusa']\n"
     ]
    }
   ],
   "source": [
    "del animal [2]\n",
    "print(animal)"
   ]
  },
  {
   "cell_type": "code",
   "execution_count": 29,
   "metadata": {},
   "outputs": [
    {
     "name": "stdout",
     "output_type": "stream",
     "text": [
      "l\n",
      "muala\n",
      "Halo Dunia!\n"
     ]
    }
   ],
   "source": [
    "s = \"Assalamualaikum Dunia!\"\n",
    "print(s[4]) \t\t# diambil karakter kelima dari string s\n",
    "print(s[6:11]) \t\t# diambil karakter ketujuh hingga sebelas dari string s\n",
    "s = \"Halo Dunia!\"\t# diubah isi string s menjadi \"Halo Dunia!\", seharusnya berhasil karena mutable\n",
    "print (s)"
   ]
  },
  {
   "cell_type": "code",
   "execution_count": 30,
   "metadata": {},
   "outputs": [
    {
     "ename": "TypeError",
     "evalue": "'str' object does not support item assignment",
     "output_type": "error",
     "traceback": [
      "\u001b[1;31m---------------------------------------------------------------------------\u001b[0m",
      "\u001b[1;31mTypeError\u001b[0m                                 Traceback (most recent call last)",
      "\u001b[1;32m<ipython-input-30-a0d88e0ef803>\u001b[0m in \u001b[0;36m<module>\u001b[1;34m\u001b[0m\n\u001b[1;32m----> 1\u001b[1;33m \u001b[0ms\u001b[0m\u001b[1;33m[\u001b[0m\u001b[1;36m5\u001b[0m\u001b[1;33m]\u001b[0m \u001b[1;33m=\u001b[0m \u001b[1;34m\"d\"\u001b[0m        \u001b[1;31m# diubah karakter keenam dari string s menjadi \"d\", seharusnya gagal karena immutable\u001b[0m\u001b[1;33m\u001b[0m\u001b[1;33m\u001b[0m\u001b[0m\n\u001b[0m",
      "\u001b[1;31mTypeError\u001b[0m: 'str' object does not support item assignment"
     ]
    }
   ],
   "source": [
    "s[5] = \"d\"        # diubah karakter keenam dari string s menjadi \"d\", seharusnya gagal karena immutable"
   ]
  },
  {
   "cell_type": "code",
   "execution_count": 31,
   "metadata": {},
   "outputs": [
    {
     "data": {
      "text/plain": [
       "(5, 'program', (1+3j))"
      ]
     },
     "execution_count": 31,
     "metadata": {},
     "output_type": "execute_result"
    }
   ],
   "source": [
    "t = (5,'program', 1+3j)\n",
    "t"
   ]
  },
  {
   "cell_type": "code",
   "execution_count": 32,
   "metadata": {},
   "outputs": [
    {
     "name": "stdout",
     "output_type": "stream",
     "text": [
      "program\n",
      "(5, 'program', (1+3j))\n"
     ]
    }
   ],
   "source": [
    "t = (5,'program', 1+3j)\n",
    "print(t[1])\n",
    "print(t[0:3])"
   ]
  },
  {
   "cell_type": "code",
   "execution_count": 33,
   "metadata": {},
   "outputs": [
    {
     "ename": "SyntaxError",
     "evalue": "keyword can't be an expression (<ipython-input-33-5b723ea99150>, line 1)",
     "output_type": "error",
     "traceback": [
      "\u001b[1;36m  File \u001b[1;32m\"<ipython-input-33-5b723ea99150>\"\u001b[1;36m, line \u001b[1;32m1\u001b[0m\n\u001b[1;33m    print(t[0]=10) # gagal\u001b[0m\n\u001b[1;37m         ^\u001b[0m\n\u001b[1;31mSyntaxError\u001b[0m\u001b[1;31m:\u001b[0m keyword can't be an expression\n"
     ]
    }
   ],
   "source": [
    "print(t[0]=10) # gagal"
   ]
  },
  {
   "cell_type": "code",
   "execution_count": 34,
   "metadata": {},
   "outputs": [
    {
     "name": "stdout",
     "output_type": "stream",
     "text": [
      "(9, 7, 11, 'PSDS')\n",
      "7\n"
     ]
    }
   ],
   "source": [
    "a = (9, 7, 11,'PSDS')\n",
    "print (a)\n",
    "print(a[1])\n",
    "del[]"
   ]
  },
  {
   "cell_type": "code",
   "execution_count": 35,
   "metadata": {},
   "outputs": [
    {
     "name": "stdout",
     "output_type": "stream",
     "text": [
      "{19, 9, 11, 7}\n"
     ]
    }
   ],
   "source": [
    "a = {9, 7, 7, 11, 19, 19}\n",
    "print(a)"
   ]
  },
  {
   "cell_type": "code",
   "execution_count": 36,
   "metadata": {},
   "outputs": [
    {
     "ename": "TypeError",
     "evalue": "'set' object is not subscriptable",
     "output_type": "error",
     "traceback": [
      "\u001b[1;31m---------------------------------------------------------------------------\u001b[0m",
      "\u001b[1;31mTypeError\u001b[0m                                 Traceback (most recent call last)",
      "\u001b[1;32m<ipython-input-36-13c7a6864475>\u001b[0m in \u001b[0;36m<module>\u001b[1;34m\u001b[0m\n\u001b[0;32m      1\u001b[0m \u001b[0ma\u001b[0m \u001b[1;33m=\u001b[0m \u001b[1;33m{\u001b[0m\u001b[1;36m1\u001b[0m\u001b[1;33m,\u001b[0m \u001b[1;36m2\u001b[0m\u001b[1;33m,\u001b[0m \u001b[1;36m3\u001b[0m\u001b[1;33m}\u001b[0m\u001b[1;33m\u001b[0m\u001b[1;33m\u001b[0m\u001b[0m\n\u001b[1;32m----> 2\u001b[1;33m \u001b[0mprint\u001b[0m\u001b[1;33m(\u001b[0m\u001b[0ma\u001b[0m\u001b[1;33m[\u001b[0m\u001b[1;36m1\u001b[0m\u001b[1;33m]\u001b[0m\u001b[1;33m)\u001b[0m\u001b[1;33m\u001b[0m\u001b[1;33m\u001b[0m\u001b[0m\n\u001b[0m",
      "\u001b[1;31mTypeError\u001b[0m: 'set' object is not subscriptable"
     ]
    }
   ],
   "source": [
    "a = {1, 2, 3}\n",
    "print(a[1])"
   ]
  },
  {
   "cell_type": "code",
   "execution_count": 37,
   "metadata": {},
   "outputs": [
    {
     "name": "stdout",
     "output_type": "stream",
     "text": [
      "<class 'dict'>\n"
     ]
    }
   ],
   "source": [
    "d = {1:'value','key':2}\n",
    "print(type(d))"
   ]
  },
  {
   "cell_type": "code",
   "execution_count": 38,
   "metadata": {},
   "outputs": [
    {
     "name": "stdout",
     "output_type": "stream",
     "text": [
      "<class 'dict'>\n",
      "d[1] =  value\n",
      "d['key'] =  2\n"
     ]
    }
   ],
   "source": [
    "d = {1:'value','key':2}\n",
    "print(type(d))\n",
    "print(\"d[1] = \", d[1]);\n",
    "print(\"d['key'] = \", d['key']);"
   ]
  },
  {
   "cell_type": "code",
   "execution_count": 39,
   "metadata": {},
   "outputs": [
    {
     "name": "stdout",
     "output_type": "stream",
     "text": [
      "<class 'dict'>\n",
      "d[1] =  value\n",
      "d['key'] =  2\n"
     ]
    }
   ],
   "source": [
    "d = {1:'value','key':2}\n",
    "print(type(d))\n",
    "print(\"d[1] = \", d[1]);\n",
    "print(\"d['key'] = \", d['key']);"
   ]
  },
  {
   "cell_type": "code",
   "execution_count": 40,
   "metadata": {},
   "outputs": [
    {
     "ename": "KeyError",
     "evalue": "2",
     "output_type": "error",
     "traceback": [
      "\u001b[1;31m---------------------------------------------------------------------------\u001b[0m",
      "\u001b[1;31mKeyError\u001b[0m                                  Traceback (most recent call last)",
      "\u001b[1;32m<ipython-input-40-e10c5b22ca86>\u001b[0m in \u001b[0;36m<module>\u001b[1;34m\u001b[0m\n\u001b[0;32m      1\u001b[0m \u001b[1;31m# Calling error\u001b[0m\u001b[1;33m\u001b[0m\u001b[1;33m\u001b[0m\u001b[1;33m\u001b[0m\u001b[0m\n\u001b[1;32m----> 2\u001b[1;33m \u001b[0mprint\u001b[0m\u001b[1;33m(\u001b[0m\u001b[1;34m\"d[2] = \"\u001b[0m\u001b[1;33m,\u001b[0m \u001b[0md\u001b[0m\u001b[1;33m[\u001b[0m\u001b[1;36m2\u001b[0m\u001b[1;33m]\u001b[0m\u001b[1;33m)\u001b[0m\u001b[1;33m;\u001b[0m\u001b[1;33m\u001b[0m\u001b[1;33m\u001b[0m\u001b[0m\n\u001b[0m",
      "\u001b[1;31mKeyError\u001b[0m: 2"
     ]
    }
   ],
   "source": [
    "# Calling error\n",
    "print(\"d[2] = \", d[2]);"
   ]
  },
  {
   "cell_type": "code",
   "execution_count": 41,
   "metadata": {},
   "outputs": [
    {
     "name": "stdout",
     "output_type": "stream",
     "text": [
      "data =  [1, 2, 3, 4, 5] ,type = <class 'list'>\n"
     ]
    }
   ],
   "source": [
    "list1 = [1,2,3,4,5]\n",
    "list2 = [\"satu\",\"dua\",\"tiga\",\"empat\",\"lima\"]\n",
    "print(\"data = \", list1 , \",type =\", type(list1))"
   ]
  },
  {
   "cell_type": "code",
   "execution_count": 42,
   "metadata": {},
   "outputs": [
    {
     "name": "stdout",
     "output_type": "stream",
     "text": [
      "(1, 2, 3, 4, 5)\n",
      "{1, 2, 3, 4, 5}\n",
      "{'satu': 1, 'dua': 2, 'tiga': 3, 'empat': 4, 'lima': 5}\n"
     ]
    }
   ],
   "source": [
    "# Mengkonversi struktur data list\n",
    "kon_tuple = tuple(list1)\n",
    "kon_set = set(list1)\n",
    "kon_dict = dict(zip(list2,list1))\n",
    "\n",
    "# Melihat data yang telah dikonversi\n",
    "print(kon_tuple)\n",
    "print(kon_set)\n",
    "print(kon_dict)"
   ]
  },
  {
   "cell_type": "markdown",
   "metadata": {},
   "source": [
    "Kesimpulan\n",
    "\n",
    "1. List merupakan salah satu anggota tipe data berurut dan terstruktur. Untuk membentuk list diperlukan tanda kurung siku ([]) dan setiap nilai di dalamnya dipisahkan menggunakan tanda koma (,).\n",
    "\n",
    "2. Tupe bersifat immutable, artinya isi tuple tidak bisa diubah dan dihapus. Tipe data tuple didefinisikan dengan tanda kurung (()).\n",
    "\n",
    "3. Set memiliki anggota yang unik. Jika diletakkan dua anggota yang sama di dalam set, maka otomatis set akan menghilangkan salah satu dari anggota tersebut.\n",
    "\n",
    "4. Dictionary merupakan tipe data yang berfungsi untuk mengumpulkan data atau nilai dengan menggunakan key value. Key adalah identitas dari sebuah anggota pada dictionary."
   ]
  },
  {
   "cell_type": "code",
   "execution_count": null,
   "metadata": {},
   "outputs": [],
   "source": []
  }
 ],
 "metadata": {
  "kernelspec": {
   "display_name": "Python 3",
   "language": "python",
   "name": "python3"
  },
  "language_info": {
   "codemirror_mode": {
    "name": "ipython",
    "version": 3
   },
   "file_extension": ".py",
   "mimetype": "text/x-python",
   "name": "python",
   "nbconvert_exporter": "python",
   "pygments_lexer": "ipython3",
   "version": "3.7.4"
  }
 },
 "nbformat": 4,
 "nbformat_minor": 2
}
